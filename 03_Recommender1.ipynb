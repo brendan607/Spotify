{
 "cells": [
  {
   "cell_type": "markdown",
   "metadata": {},
   "source": [
    "# Recommender 1"
   ]
  },
  {
   "cell_type": "code",
   "execution_count": 2,
   "metadata": {},
   "outputs": [],
   "source": [
    "import pandas as pd\n",
    "import numpy as np\n",
    "from scipy import sparse\n",
    "from sklearn.feature_extraction.text import CountVectorizer\n",
    "from sklearn.metrics.pairwise import pairwise_distances, cosine_similarity\n",
    "from sklearn.preprocessing import StandardScaler\n",
    "from sklearn.decomposition import TruncatedSVD\n",
    "import matplotlib.pyplot as plt\n",
    "\n",
    "%matplotlib inline"
   ]
  },
  {
   "cell_type": "code",
   "execution_count": 3,
   "metadata": {},
   "outputs": [
    {
     "data": {
      "text/html": [
       "<div>\n",
       "<style scoped>\n",
       "    .dataframe tbody tr th:only-of-type {\n",
       "        vertical-align: middle;\n",
       "    }\n",
       "\n",
       "    .dataframe tbody tr th {\n",
       "        vertical-align: top;\n",
       "    }\n",
       "\n",
       "    .dataframe thead th {\n",
       "        text-align: right;\n",
       "    }\n",
       "</style>\n",
       "<table border=\"1\" class=\"dataframe\">\n",
       "  <thead>\n",
       "    <tr style=\"text-align: right;\">\n",
       "      <th></th>\n",
       "      <th>track_name</th>\n",
       "      <th>artist_name</th>\n",
       "      <th>year</th>\n",
       "      <th>key</th>\n",
       "      <th>tempo</th>\n",
       "      <th>mode</th>\n",
       "      <th>time_signature</th>\n",
       "      <th>duration_ms</th>\n",
       "      <th>popularity</th>\n",
       "      <th>loudness</th>\n",
       "      <th>acousticness</th>\n",
       "      <th>danceability</th>\n",
       "      <th>energy</th>\n",
       "      <th>instrumentalness</th>\n",
       "      <th>liveness</th>\n",
       "      <th>speechiness</th>\n",
       "      <th>valence</th>\n",
       "      <th>uri</th>\n",
       "    </tr>\n",
       "  </thead>\n",
       "  <tbody>\n",
       "    <tr>\n",
       "      <th>0</th>\n",
       "      <td>Cassidy</td>\n",
       "      <td>Bob Weir</td>\n",
       "      <td>1970</td>\n",
       "      <td>6.0</td>\n",
       "      <td>149.346</td>\n",
       "      <td>1.0</td>\n",
       "      <td>4.0</td>\n",
       "      <td>221107.0</td>\n",
       "      <td>31</td>\n",
       "      <td>-7.784</td>\n",
       "      <td>0.6210</td>\n",
       "      <td>0.569</td>\n",
       "      <td>0.679</td>\n",
       "      <td>0.000125</td>\n",
       "      <td>0.1350</td>\n",
       "      <td>0.0297</td>\n",
       "      <td>0.540</td>\n",
       "      <td>spotify:track:1wrFUny4CRCDV5wTMv7RYK</td>\n",
       "    </tr>\n",
       "    <tr>\n",
       "      <th>1</th>\n",
       "      <td>Stories??</td>\n",
       "      <td>The Chakachas</td>\n",
       "      <td>1970</td>\n",
       "      <td>11.0</td>\n",
       "      <td>94.208</td>\n",
       "      <td>0.0</td>\n",
       "      <td>4.0</td>\n",
       "      <td>167234.0</td>\n",
       "      <td>35</td>\n",
       "      <td>-17.290</td>\n",
       "      <td>0.6710</td>\n",
       "      <td>0.757</td>\n",
       "      <td>0.450</td>\n",
       "      <td>0.000085</td>\n",
       "      <td>0.0802</td>\n",
       "      <td>0.4160</td>\n",
       "      <td>0.962</td>\n",
       "      <td>spotify:track:0dXapcDIbXkH91ObjpXQqh</td>\n",
       "    </tr>\n",
       "    <tr>\n",
       "      <th>2</th>\n",
       "      <td>Polk Salad Annie</td>\n",
       "      <td>Tony Joe White</td>\n",
       "      <td>1970</td>\n",
       "      <td>9.0</td>\n",
       "      <td>132.035</td>\n",
       "      <td>1.0</td>\n",
       "      <td>4.0</td>\n",
       "      <td>223533.0</td>\n",
       "      <td>38</td>\n",
       "      <td>-11.565</td>\n",
       "      <td>0.3030</td>\n",
       "      <td>0.783</td>\n",
       "      <td>0.543</td>\n",
       "      <td>0.015900</td>\n",
       "      <td>0.0892</td>\n",
       "      <td>0.0412</td>\n",
       "      <td>0.833</td>\n",
       "      <td>spotify:track:12wB4syL3O9w54bpe1tmZX</td>\n",
       "    </tr>\n",
       "    <tr>\n",
       "      <th>3</th>\n",
       "      <td>It Never Rains in Southern California</td>\n",
       "      <td>Albert Hammond</td>\n",
       "      <td>1970</td>\n",
       "      <td>9.0</td>\n",
       "      <td>116.903</td>\n",
       "      <td>1.0</td>\n",
       "      <td>4.0</td>\n",
       "      <td>229000.0</td>\n",
       "      <td>31</td>\n",
       "      <td>-6.134</td>\n",
       "      <td>0.0563</td>\n",
       "      <td>0.584</td>\n",
       "      <td>0.785</td>\n",
       "      <td>0.000000</td>\n",
       "      <td>0.0853</td>\n",
       "      <td>0.0267</td>\n",
       "      <td>0.937</td>\n",
       "      <td>spotify:track:1K24PVzIzAKBzRhmVKRleL</td>\n",
       "    </tr>\n",
       "    <tr>\n",
       "      <th>4</th>\n",
       "      <td>Gimme Some More</td>\n",
       "      <td>The J.B.'s</td>\n",
       "      <td>1970</td>\n",
       "      <td>2.0</td>\n",
       "      <td>97.760</td>\n",
       "      <td>1.0</td>\n",
       "      <td>4.0</td>\n",
       "      <td>187560.0</td>\n",
       "      <td>38</td>\n",
       "      <td>-9.968</td>\n",
       "      <td>0.2030</td>\n",
       "      <td>0.822</td>\n",
       "      <td>0.426</td>\n",
       "      <td>0.000000</td>\n",
       "      <td>0.0715</td>\n",
       "      <td>0.0766</td>\n",
       "      <td>0.820</td>\n",
       "      <td>spotify:track:1NXyoATCYylbjSDFe8FHbJ</td>\n",
       "    </tr>\n",
       "  </tbody>\n",
       "</table>\n",
       "</div>"
      ],
      "text/plain": [
       "                              track_name     artist_name  year   key    tempo  \\\n",
       "0                                Cassidy        Bob Weir  1970   6.0  149.346   \n",
       "1                              Stories??   The Chakachas  1970  11.0   94.208   \n",
       "2                       Polk Salad Annie  Tony Joe White  1970   9.0  132.035   \n",
       "3  It Never Rains in Southern California  Albert Hammond  1970   9.0  116.903   \n",
       "4                        Gimme Some More      The J.B.'s  1970   2.0   97.760   \n",
       "\n",
       "   mode  time_signature  duration_ms  popularity  loudness  acousticness  \\\n",
       "0   1.0             4.0     221107.0          31    -7.784        0.6210   \n",
       "1   0.0             4.0     167234.0          35   -17.290        0.6710   \n",
       "2   1.0             4.0     223533.0          38   -11.565        0.3030   \n",
       "3   1.0             4.0     229000.0          31    -6.134        0.0563   \n",
       "4   1.0             4.0     187560.0          38    -9.968        0.2030   \n",
       "\n",
       "   danceability  energy  instrumentalness  liveness  speechiness  valence  \\\n",
       "0         0.569   0.679          0.000125    0.1350       0.0297    0.540   \n",
       "1         0.757   0.450          0.000085    0.0802       0.4160    0.962   \n",
       "2         0.783   0.543          0.015900    0.0892       0.0412    0.833   \n",
       "3         0.584   0.785          0.000000    0.0853       0.0267    0.937   \n",
       "4         0.822   0.426          0.000000    0.0715       0.0766    0.820   \n",
       "\n",
       "                                    uri  \n",
       "0  spotify:track:1wrFUny4CRCDV5wTMv7RYK  \n",
       "1  spotify:track:0dXapcDIbXkH91ObjpXQqh  \n",
       "2  spotify:track:12wB4syL3O9w54bpe1tmZX  \n",
       "3  spotify:track:1K24PVzIzAKBzRhmVKRleL  \n",
       "4  spotify:track:1NXyoATCYylbjSDFe8FHbJ  "
      ]
     },
     "execution_count": 3,
     "metadata": {},
     "output_type": "execute_result"
    }
   ],
   "source": [
    "df = pd.read_csv('./Data/1970-2020_tracks_cleaned')\n",
    "df.head()"
   ]
  },
  {
   "cell_type": "markdown",
   "metadata": {},
   "source": [
    "**Making all my song names and artist names lower case**  \n",
    "This will making searching specific songs easier later since everything can be inputed in lowercase."
   ]
  },
  {
   "cell_type": "code",
   "execution_count": 4,
   "metadata": {},
   "outputs": [],
   "source": [
    "df['track_name'] = df['track_name']+', '+df['artist_name']\n",
    "df['track_name'] = df['track_name'].str.lower()"
   ]
  },
  {
   "cell_type": "markdown",
   "metadata": {},
   "source": [
    "**Setting Index of dataframe as the tracks themselves**  \n",
    "We will want to compare each song with every other song in later steps."
   ]
  },
  {
   "cell_type": "code",
   "execution_count": 5,
   "metadata": {},
   "outputs": [],
   "source": [
    "df.set_index('track_name', inplace=True)"
   ]
  },
  {
   "cell_type": "markdown",
   "metadata": {},
   "source": [
    "**Due to Computer memory limitations, I will only use songs between the years 2000 to 2020**  \n",
    "This brings our data set to about 40,000 songs."
   ]
  },
  {
   "cell_type": "code",
   "execution_count": 6,
   "metadata": {},
   "outputs": [],
   "source": [
    "df = df[df['year'] >= 2000]"
   ]
  },
  {
   "cell_type": "code",
   "execution_count": 7,
   "metadata": {},
   "outputs": [
    {
     "data": {
      "text/plain": [
       "(40948, 17)"
      ]
     },
     "execution_count": 7,
     "metadata": {},
     "output_type": "execute_result"
    }
   ],
   "source": [
    "df.shape"
   ]
  },
  {
   "cell_type": "code",
   "execution_count": 8,
   "metadata": {},
   "outputs": [],
   "source": [
    "df = df[~df.index.duplicated(keep='last')]"
   ]
  },
  {
   "cell_type": "code",
   "execution_count": 9,
   "metadata": {},
   "outputs": [
    {
     "data": {
      "text/plain": [
       "(38775, 17)"
      ]
     },
     "execution_count": 9,
     "metadata": {},
     "output_type": "execute_result"
    }
   ],
   "source": [
    "df.shape"
   ]
  },
  {
   "cell_type": "markdown",
   "metadata": {},
   "source": [
    "**Standard Scaling since many of our variables are on quite different scales**"
   ]
  },
  {
   "cell_type": "code",
   "execution_count": 10,
   "metadata": {},
   "outputs": [],
   "source": [
    "numerical_df = df.drop(columns=['artist_name', 'uri'])\n",
    "\n",
    "ss = StandardScaler()\n",
    "numerical_df_scaled = ss.fit_transform(numerical_df)"
   ]
  },
  {
   "cell_type": "code",
   "execution_count": 11,
   "metadata": {},
   "outputs": [
    {
     "data": {
      "text/plain": [
       "(38775, 15)"
      ]
     },
     "execution_count": 11,
     "metadata": {},
     "output_type": "execute_result"
    }
   ],
   "source": [
    "non_svd = pd.DataFrame(numerical_df_scaled, columns = numerical_df.columns, index = numerical_df.index)\n",
    "non_svd.shape"
   ]
  },
  {
   "cell_type": "markdown",
   "metadata": {},
   "source": [
    "### Cosine Similary"
   ]
  },
  {
   "cell_type": "markdown",
   "metadata": {},
   "source": [
    "For our product-based recommender (using features we know about our \"product\", the songs in this case), we will use cosine similarity for our recommender model."
   ]
  },
  {
   "cell_type": "markdown",
   "metadata": {},
   "source": [
    "- Citing [Wikipedia](https://en.wikipedia.org/wiki/Cosine_similarity#:~:text=):\n",
    "\n",
    "    Cosine similarity is a measure of similarity between two non-zero vectors of an inner product space that measures the cosine of the angle between them. The cosine of 0° is 1, and it is less than 1 for any angle in the interval (0, π] radians. It is thus a judgment of orientation and not magnitude: two vectors with the same orientation have a cosine similarity of 1, two vectors oriented at 90° relative to each other have a similarity of 0, and two vectors diametrically opposed have a similarity of -1, independent of their magnitude.\n",
    "    \n",
    "- In our case, each track is its own vector of unique features. We will get a big matrix comparing each song to every other song in our dataset."
   ]
  },
  {
   "cell_type": "code",
   "execution_count": 12,
   "metadata": {},
   "outputs": [],
   "source": [
    "cs1 = cosine_similarity(non_svd, non_svd)"
   ]
  },
  {
   "cell_type": "code",
   "execution_count": 13,
   "metadata": {},
   "outputs": [],
   "source": [
    "recommender1 = pd.DataFrame(cs1, columns=non_svd.index, index=non_svd.index)"
   ]
  },
  {
   "cell_type": "code",
   "execution_count": 14,
   "metadata": {},
   "outputs": [
    {
     "data": {
      "text/html": [
       "<div>\n",
       "<style scoped>\n",
       "    .dataframe tbody tr th:only-of-type {\n",
       "        vertical-align: middle;\n",
       "    }\n",
       "\n",
       "    .dataframe tbody tr th {\n",
       "        vertical-align: top;\n",
       "    }\n",
       "\n",
       "    .dataframe thead th {\n",
       "        text-align: right;\n",
       "    }\n",
       "</style>\n",
       "<table border=\"1\" class=\"dataframe\">\n",
       "  <thead>\n",
       "    <tr style=\"text-align: right;\">\n",
       "      <th>track_name</th>\n",
       "      <th>bitch please ii, eminem</th>\n",
       "      <th>papa was a rollin' stone - single version, the temptations</th>\n",
       "      <th>shape of my heart, backstreet boys</th>\n",
       "      <th>dig, mudvayne</th>\n",
       "      <th>hold on loosely, 38 special</th>\n",
       "      <th>she loves you - mono / remastered, the beatles</th>\n",
       "      <th>if i ever feel better, phoenix</th>\n",
       "      <th>didn't cha know, erykah badu</th>\n",
       "      <th>take a look around, limp bizkit</th>\n",
       "      <th>mis tres viejas, los tucanes de tijuana</th>\n",
       "      <th>...</th>\n",
       "      <th>piano concerto no.3 in c minor, op.37: 2. largo - live, ludwig van beethoven</th>\n",
       "      <th>sextet in e-flat major, op. 81b: ii. adagio, ludwig van beethoven</th>\n",
       "      <th>violin sonata no. 2 in a major, op. 12, no. 2: 2. andante più tosto allegretto, ludwig van beethoven</th>\n",
       "      <th>string quartet no.14 in c sharp minor, op.131: 1. adagio ma non troppo e molto espressivo, ludwig van beethoven</th>\n",
       "      <th>piano sonata no.17 in d minor, op.31 no.2 -\"tempest\": 3. allegretto, ludwig van beethoven</th>\n",
       "      <th>piano sonata no. 23 in f minor, op. 57 \"appassionata\": 2. andante con moto, ludwig van beethoven</th>\n",
       "      <th>piano concerto no.5 in e flat major op.73 -\"emperor\": 3. rondo (allegro), ludwig van beethoven</th>\n",
       "      <th>bagatelle in a minor, woo 59 -\"für elise\", ludwig van beethoven</th>\n",
       "      <th>6 bagatelles, op. 126: 1. andante con moto, ludwig van beethoven</th>\n",
       "      <th>symphony no.2 in d, op.36: 2. larghetto, ludwig van beethoven</th>\n",
       "    </tr>\n",
       "    <tr>\n",
       "      <th>track_name</th>\n",
       "      <th></th>\n",
       "      <th></th>\n",
       "      <th></th>\n",
       "      <th></th>\n",
       "      <th></th>\n",
       "      <th></th>\n",
       "      <th></th>\n",
       "      <th></th>\n",
       "      <th></th>\n",
       "      <th></th>\n",
       "      <th></th>\n",
       "      <th></th>\n",
       "      <th></th>\n",
       "      <th></th>\n",
       "      <th></th>\n",
       "      <th></th>\n",
       "      <th></th>\n",
       "      <th></th>\n",
       "      <th></th>\n",
       "      <th></th>\n",
       "      <th></th>\n",
       "    </tr>\n",
       "  </thead>\n",
       "  <tbody>\n",
       "    <tr>\n",
       "      <th>bitch please ii, eminem</th>\n",
       "      <td>1.000000</td>\n",
       "      <td>0.391338</td>\n",
       "      <td>0.498434</td>\n",
       "      <td>0.066567</td>\n",
       "      <td>0.459532</td>\n",
       "      <td>0.341913</td>\n",
       "      <td>0.604419</td>\n",
       "      <td>0.501313</td>\n",
       "      <td>0.246337</td>\n",
       "      <td>0.604176</td>\n",
       "      <td>...</td>\n",
       "      <td>-0.550682</td>\n",
       "      <td>-0.652182</td>\n",
       "      <td>-0.684979</td>\n",
       "      <td>-0.687223</td>\n",
       "      <td>-0.640968</td>\n",
       "      <td>-0.481090</td>\n",
       "      <td>-0.419180</td>\n",
       "      <td>-0.662480</td>\n",
       "      <td>-0.538907</td>\n",
       "      <td>-0.534100</td>\n",
       "    </tr>\n",
       "    <tr>\n",
       "      <th>papa was a rollin' stone - single version, the temptations</th>\n",
       "      <td>0.391338</td>\n",
       "      <td>1.000000</td>\n",
       "      <td>0.335735</td>\n",
       "      <td>0.147327</td>\n",
       "      <td>0.474200</td>\n",
       "      <td>0.228197</td>\n",
       "      <td>0.818433</td>\n",
       "      <td>0.671276</td>\n",
       "      <td>0.323903</td>\n",
       "      <td>0.533293</td>\n",
       "      <td>...</td>\n",
       "      <td>-0.030278</td>\n",
       "      <td>-0.125796</td>\n",
       "      <td>0.023493</td>\n",
       "      <td>-0.016709</td>\n",
       "      <td>-0.077645</td>\n",
       "      <td>-0.049070</td>\n",
       "      <td>-0.024566</td>\n",
       "      <td>-0.006965</td>\n",
       "      <td>-0.053085</td>\n",
       "      <td>-0.015204</td>\n",
       "    </tr>\n",
       "    <tr>\n",
       "      <th>shape of my heart, backstreet boys</th>\n",
       "      <td>0.498434</td>\n",
       "      <td>0.335735</td>\n",
       "      <td>1.000000</td>\n",
       "      <td>0.489441</td>\n",
       "      <td>0.704472</td>\n",
       "      <td>0.549591</td>\n",
       "      <td>0.405666</td>\n",
       "      <td>0.150466</td>\n",
       "      <td>0.814110</td>\n",
       "      <td>0.627990</td>\n",
       "      <td>...</td>\n",
       "      <td>-0.599737</td>\n",
       "      <td>-0.515017</td>\n",
       "      <td>-0.613685</td>\n",
       "      <td>-0.661423</td>\n",
       "      <td>-0.576426</td>\n",
       "      <td>-0.605888</td>\n",
       "      <td>-0.537301</td>\n",
       "      <td>-0.634903</td>\n",
       "      <td>-0.518892</td>\n",
       "      <td>-0.518680</td>\n",
       "    </tr>\n",
       "    <tr>\n",
       "      <th>dig, mudvayne</th>\n",
       "      <td>0.066567</td>\n",
       "      <td>0.147327</td>\n",
       "      <td>0.489441</td>\n",
       "      <td>1.000000</td>\n",
       "      <td>0.325227</td>\n",
       "      <td>0.366108</td>\n",
       "      <td>0.377042</td>\n",
       "      <td>0.195958</td>\n",
       "      <td>0.464464</td>\n",
       "      <td>0.200070</td>\n",
       "      <td>...</td>\n",
       "      <td>-0.545933</td>\n",
       "      <td>-0.508592</td>\n",
       "      <td>-0.402764</td>\n",
       "      <td>-0.417617</td>\n",
       "      <td>-0.415094</td>\n",
       "      <td>-0.632859</td>\n",
       "      <td>-0.606415</td>\n",
       "      <td>-0.403343</td>\n",
       "      <td>-0.514044</td>\n",
       "      <td>-0.537816</td>\n",
       "    </tr>\n",
       "    <tr>\n",
       "      <th>hold on loosely, 38 special</th>\n",
       "      <td>0.459532</td>\n",
       "      <td>0.474200</td>\n",
       "      <td>0.704472</td>\n",
       "      <td>0.325227</td>\n",
       "      <td>1.000000</td>\n",
       "      <td>0.457560</td>\n",
       "      <td>0.563610</td>\n",
       "      <td>0.202407</td>\n",
       "      <td>0.742752</td>\n",
       "      <td>0.619089</td>\n",
       "      <td>...</td>\n",
       "      <td>-0.366043</td>\n",
       "      <td>-0.414705</td>\n",
       "      <td>-0.453897</td>\n",
       "      <td>-0.426642</td>\n",
       "      <td>-0.454170</td>\n",
       "      <td>-0.457939</td>\n",
       "      <td>-0.361778</td>\n",
       "      <td>-0.444952</td>\n",
       "      <td>-0.453769</td>\n",
       "      <td>-0.350089</td>\n",
       "    </tr>\n",
       "  </tbody>\n",
       "</table>\n",
       "<p>5 rows × 38775 columns</p>\n",
       "</div>"
      ],
      "text/plain": [
       "track_name                                          bitch please ii, eminem  \\\n",
       "track_name                                                                    \n",
       "bitch please ii, eminem                                            1.000000   \n",
       "papa was a rollin' stone - single version, the ...                 0.391338   \n",
       "shape of my heart, backstreet boys                                 0.498434   \n",
       "dig, mudvayne                                                      0.066567   \n",
       "hold on loosely, 38 special                                        0.459532   \n",
       "\n",
       "track_name                                          papa was a rollin' stone - single version, the temptations  \\\n",
       "track_name                                                                                                       \n",
       "bitch please ii, eminem                                                                      0.391338            \n",
       "papa was a rollin' stone - single version, the ...                                           1.000000            \n",
       "shape of my heart, backstreet boys                                                           0.335735            \n",
       "dig, mudvayne                                                                                0.147327            \n",
       "hold on loosely, 38 special                                                                  0.474200            \n",
       "\n",
       "track_name                                          shape of my heart, backstreet boys  \\\n",
       "track_name                                                                               \n",
       "bitch please ii, eminem                                                       0.498434   \n",
       "papa was a rollin' stone - single version, the ...                            0.335735   \n",
       "shape of my heart, backstreet boys                                            1.000000   \n",
       "dig, mudvayne                                                                 0.489441   \n",
       "hold on loosely, 38 special                                                   0.704472   \n",
       "\n",
       "track_name                                          dig, mudvayne  \\\n",
       "track_name                                                          \n",
       "bitch please ii, eminem                                  0.066567   \n",
       "papa was a rollin' stone - single version, the ...       0.147327   \n",
       "shape of my heart, backstreet boys                       0.489441   \n",
       "dig, mudvayne                                            1.000000   \n",
       "hold on loosely, 38 special                              0.325227   \n",
       "\n",
       "track_name                                          hold on loosely, 38 special  \\\n",
       "track_name                                                                        \n",
       "bitch please ii, eminem                                                0.459532   \n",
       "papa was a rollin' stone - single version, the ...                     0.474200   \n",
       "shape of my heart, backstreet boys                                     0.704472   \n",
       "dig, mudvayne                                                          0.325227   \n",
       "hold on loosely, 38 special                                            1.000000   \n",
       "\n",
       "track_name                                          she loves you - mono / remastered, the beatles  \\\n",
       "track_name                                                                                           \n",
       "bitch please ii, eminem                                                                   0.341913   \n",
       "papa was a rollin' stone - single version, the ...                                        0.228197   \n",
       "shape of my heart, backstreet boys                                                        0.549591   \n",
       "dig, mudvayne                                                                             0.366108   \n",
       "hold on loosely, 38 special                                                               0.457560   \n",
       "\n",
       "track_name                                          if i ever feel better, phoenix  \\\n",
       "track_name                                                                           \n",
       "bitch please ii, eminem                                                   0.604419   \n",
       "papa was a rollin' stone - single version, the ...                        0.818433   \n",
       "shape of my heart, backstreet boys                                        0.405666   \n",
       "dig, mudvayne                                                             0.377042   \n",
       "hold on loosely, 38 special                                               0.563610   \n",
       "\n",
       "track_name                                          didn't cha know, erykah badu  \\\n",
       "track_name                                                                         \n",
       "bitch please ii, eminem                                                 0.501313   \n",
       "papa was a rollin' stone - single version, the ...                      0.671276   \n",
       "shape of my heart, backstreet boys                                      0.150466   \n",
       "dig, mudvayne                                                           0.195958   \n",
       "hold on loosely, 38 special                                             0.202407   \n",
       "\n",
       "track_name                                          take a look around, limp bizkit  \\\n",
       "track_name                                                                            \n",
       "bitch please ii, eminem                                                    0.246337   \n",
       "papa was a rollin' stone - single version, the ...                         0.323903   \n",
       "shape of my heart, backstreet boys                                         0.814110   \n",
       "dig, mudvayne                                                              0.464464   \n",
       "hold on loosely, 38 special                                                0.742752   \n",
       "\n",
       "track_name                                          mis tres viejas, los tucanes de tijuana  \\\n",
       "track_name                                                                                    \n",
       "bitch please ii, eminem                                                            0.604176   \n",
       "papa was a rollin' stone - single version, the ...                                 0.533293   \n",
       "shape of my heart, backstreet boys                                                 0.627990   \n",
       "dig, mudvayne                                                                      0.200070   \n",
       "hold on loosely, 38 special                                                        0.619089   \n",
       "\n",
       "track_name                                          ...  \\\n",
       "track_name                                          ...   \n",
       "bitch please ii, eminem                             ...   \n",
       "papa was a rollin' stone - single version, the ...  ...   \n",
       "shape of my heart, backstreet boys                  ...   \n",
       "dig, mudvayne                                       ...   \n",
       "hold on loosely, 38 special                         ...   \n",
       "\n",
       "track_name                                          piano concerto no.3 in c minor, op.37: 2. largo - live, ludwig van beethoven  \\\n",
       "track_name                                                                                                                         \n",
       "bitch please ii, eminem                                                                     -0.550682                              \n",
       "papa was a rollin' stone - single version, the ...                                          -0.030278                              \n",
       "shape of my heart, backstreet boys                                                          -0.599737                              \n",
       "dig, mudvayne                                                                               -0.545933                              \n",
       "hold on loosely, 38 special                                                                 -0.366043                              \n",
       "\n",
       "track_name                                          sextet in e-flat major, op. 81b: ii. adagio, ludwig van beethoven  \\\n",
       "track_name                                                                                                              \n",
       "bitch please ii, eminem                                                                     -0.652182                   \n",
       "papa was a rollin' stone - single version, the ...                                          -0.125796                   \n",
       "shape of my heart, backstreet boys                                                          -0.515017                   \n",
       "dig, mudvayne                                                                               -0.508592                   \n",
       "hold on loosely, 38 special                                                                 -0.414705                   \n",
       "\n",
       "track_name                                          violin sonata no. 2 in a major, op. 12, no. 2: 2. andante più tosto allegretto, ludwig van beethoven  \\\n",
       "track_name                                                                                                                                                 \n",
       "bitch please ii, eminem                                                                     -0.684979                                                      \n",
       "papa was a rollin' stone - single version, the ...                                           0.023493                                                      \n",
       "shape of my heart, backstreet boys                                                          -0.613685                                                      \n",
       "dig, mudvayne                                                                               -0.402764                                                      \n",
       "hold on loosely, 38 special                                                                 -0.453897                                                      \n",
       "\n",
       "track_name                                          string quartet no.14 in c sharp minor, op.131: 1. adagio ma non troppo e molto espressivo, ludwig van beethoven  \\\n",
       "track_name                                                                                                                                                            \n",
       "bitch please ii, eminem                                                                     -0.687223                                                                 \n",
       "papa was a rollin' stone - single version, the ...                                          -0.016709                                                                 \n",
       "shape of my heart, backstreet boys                                                          -0.661423                                                                 \n",
       "dig, mudvayne                                                                               -0.417617                                                                 \n",
       "hold on loosely, 38 special                                                                 -0.426642                                                                 \n",
       "\n",
       "track_name                                          piano sonata no.17 in d minor, op.31 no.2 -\"tempest\": 3. allegretto, ludwig van beethoven  \\\n",
       "track_name                                                                                                                                      \n",
       "bitch please ii, eminem                                                                     -0.640968                                           \n",
       "papa was a rollin' stone - single version, the ...                                          -0.077645                                           \n",
       "shape of my heart, backstreet boys                                                          -0.576426                                           \n",
       "dig, mudvayne                                                                               -0.415094                                           \n",
       "hold on loosely, 38 special                                                                 -0.454170                                           \n",
       "\n",
       "track_name                                          piano sonata no. 23 in f minor, op. 57 \"appassionata\": 2. andante con moto, ludwig van beethoven  \\\n",
       "track_name                                                                                                                                             \n",
       "bitch please ii, eminem                                                                     -0.481090                                                  \n",
       "papa was a rollin' stone - single version, the ...                                          -0.049070                                                  \n",
       "shape of my heart, backstreet boys                                                          -0.605888                                                  \n",
       "dig, mudvayne                                                                               -0.632859                                                  \n",
       "hold on loosely, 38 special                                                                 -0.457939                                                  \n",
       "\n",
       "track_name                                          piano concerto no.5 in e flat major op.73 -\"emperor\": 3. rondo (allegro), ludwig van beethoven  \\\n",
       "track_name                                                                                                                                           \n",
       "bitch please ii, eminem                                                                     -0.419180                                                \n",
       "papa was a rollin' stone - single version, the ...                                          -0.024566                                                \n",
       "shape of my heart, backstreet boys                                                          -0.537301                                                \n",
       "dig, mudvayne                                                                               -0.606415                                                \n",
       "hold on loosely, 38 special                                                                 -0.361778                                                \n",
       "\n",
       "track_name                                          bagatelle in a minor, woo 59 -\"für elise\", ludwig van beethoven  \\\n",
       "track_name                                                                                                            \n",
       "bitch please ii, eminem                                                                     -0.662480                 \n",
       "papa was a rollin' stone - single version, the ...                                          -0.006965                 \n",
       "shape of my heart, backstreet boys                                                          -0.634903                 \n",
       "dig, mudvayne                                                                               -0.403343                 \n",
       "hold on loosely, 38 special                                                                 -0.444952                 \n",
       "\n",
       "track_name                                          6 bagatelles, op. 126: 1. andante con moto, ludwig van beethoven  \\\n",
       "track_name                                                                                                             \n",
       "bitch please ii, eminem                                                                     -0.538907                  \n",
       "papa was a rollin' stone - single version, the ...                                          -0.053085                  \n",
       "shape of my heart, backstreet boys                                                          -0.518892                  \n",
       "dig, mudvayne                                                                               -0.514044                  \n",
       "hold on loosely, 38 special                                                                 -0.453769                  \n",
       "\n",
       "track_name                                          symphony no.2 in d, op.36: 2. larghetto, ludwig van beethoven  \n",
       "track_name                                                                                                         \n",
       "bitch please ii, eminem                                                                     -0.534100              \n",
       "papa was a rollin' stone - single version, the ...                                          -0.015204              \n",
       "shape of my heart, backstreet boys                                                          -0.518680              \n",
       "dig, mudvayne                                                                               -0.537816              \n",
       "hold on loosely, 38 special                                                                 -0.350089              \n",
       "\n",
       "[5 rows x 38775 columns]"
      ]
     },
     "execution_count": 14,
     "metadata": {},
     "output_type": "execute_result"
    }
   ],
   "source": [
    "recommender1.head()"
   ]
  },
  {
   "cell_type": "markdown",
   "metadata": {},
   "source": [
    "### Recommender"
   ]
  },
  {
   "cell_type": "markdown",
   "metadata": {},
   "source": [
    "Function to search a song to get 10 recommendations."
   ]
  },
  {
   "cell_type": "code",
   "execution_count": 15,
   "metadata": {},
   "outputs": [],
   "source": [
    "def recommend1(search):\n",
    "\n",
    "    for track in df.loc[df.index.str.contains(search)].sort_values(by ='popularity', ascending = False).index:\n",
    "        print(track)\n",
    "        print('')\n",
    "        print('10 closest songs')\n",
    "        print('')\n",
    "        print(recommender1[track].sort_values(ascending = False)[1:11])\n",
    "        print('')\n",
    "        print('*******************************************************************************************')\n",
    "        print('')"
   ]
  },
  {
   "cell_type": "code",
   "execution_count": 16,
   "metadata": {},
   "outputs": [
    {
     "name": "stdout",
     "output_type": "stream",
     "text": [
      "ocean eyes, billie eilish\n",
      "\n",
      "10 closest songs\n",
      "\n",
      "track_name\n",
      "solo, frank ocean                               0.930773\n",
      "don't forget about me, cloves                   0.927655\n",
      "technicolour beat, oh wonder                    0.920424\n",
      "angels, khalid                                  0.915919\n",
      "ocean eyes - astronomyy remix, billie eilish    0.914408\n",
      "teenage mind, tate mcrae                        0.904694\n",
      "remember me, jeremih                            0.902335\n",
      "vertigo, khalid                                 0.900547\n",
      "conversations in the dark, john legend          0.900239\n",
      "disfruto, carla morrison                        0.900048\n",
      "Name: ocean eyes, billie eilish, dtype: float64\n",
      "\n",
      "*******************************************************************************************\n",
      "\n"
     ]
    }
   ],
   "source": [
    "recommend1('ocean eyes, billie eilish')"
   ]
  },
  {
   "cell_type": "markdown",
   "metadata": {},
   "source": [
    "Function to get more details of specific songs you are interested in"
   ]
  },
  {
   "cell_type": "code",
   "execution_count": 17,
   "metadata": {},
   "outputs": [],
   "source": [
    "def get_features(song):\n",
    "    return df.loc[song]"
   ]
  },
  {
   "cell_type": "code",
   "execution_count": 19,
   "metadata": {},
   "outputs": [
    {
     "data": {
      "text/plain": [
       "artist_name                                Billie Eilish\n",
       "year                                                2016\n",
       "key                                                    4\n",
       "tempo                                            144.828\n",
       "mode                                                   0\n",
       "time_signature                                         4\n",
       "duration_ms                                       200560\n",
       "popularity                                            69\n",
       "loudness                                          -7.725\n",
       "acousticness                                       0.819\n",
       "danceability                                       0.475\n",
       "energy                                              0.37\n",
       "instrumentalness                                  0.0577\n",
       "liveness                                          0.0841\n",
       "speechiness                                       0.0361\n",
       "valence                                            0.157\n",
       "uri                 spotify:track:2uIX8YMNjGMD7441kqyyNU\n",
       "Name: ocean eyes, billie eilish, dtype: object"
      ]
     },
     "execution_count": 19,
     "metadata": {},
     "output_type": "execute_result"
    }
   ],
   "source": [
    "get_features('ocean eyes, billie eilish')"
   ]
  },
  {
   "cell_type": "markdown",
   "metadata": {},
   "source": [
    "____"
   ]
  }
 ],
 "metadata": {
  "kernelspec": {
   "display_name": "Python [conda env:dsi]",
   "language": "python",
   "name": "conda-env-dsi-py"
  },
  "language_info": {
   "codemirror_mode": {
    "name": "ipython",
    "version": 3
   },
   "file_extension": ".py",
   "mimetype": "text/x-python",
   "name": "python",
   "nbconvert_exporter": "python",
   "pygments_lexer": "ipython3",
   "version": "3.7.5"
  }
 },
 "nbformat": 4,
 "nbformat_minor": 4
}
